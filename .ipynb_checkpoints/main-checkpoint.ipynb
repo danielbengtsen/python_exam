{
 "cells": [
  {
   "cell_type": "markdown",
   "metadata": {},
   "source": [
    "### Download the data and remove rows containing null values"
   ]
  },
  {
   "cell_type": "code",
   "execution_count": 1,
   "metadata": {},
   "outputs": [
    {
     "ename": "KeyError",
     "evalue": "('Demographics.Total', 'Salaries.Mean', 'Education.Major', 'Demographics.Ethnicity.Asians', 'Demographics.Ethnicity.Minorities', 'Demographics.Ethnicity.Whites', 'Demographics.Gender.Females', 'Demographics.Gender.Males')",
     "output_type": "error",
     "traceback": [
      "\u001b[0;31m---------------------------------------------------------------------------\u001b[0m",
      "\u001b[0;31mKeyError\u001b[0m                                  Traceback (most recent call last)",
      "\u001b[0;32m/opt/conda/lib/python3.7/site-packages/pandas/core/indexes/base.py\u001b[0m in \u001b[0;36mget_loc\u001b[0;34m(self, key, method, tolerance)\u001b[0m\n\u001b[1;32m   2645\u001b[0m             \u001b[0;32mtry\u001b[0m\u001b[0;34m:\u001b[0m\u001b[0;34m\u001b[0m\u001b[0;34m\u001b[0m\u001b[0m\n\u001b[0;32m-> 2646\u001b[0;31m                 \u001b[0;32mreturn\u001b[0m \u001b[0mself\u001b[0m\u001b[0;34m.\u001b[0m\u001b[0m_engine\u001b[0m\u001b[0;34m.\u001b[0m\u001b[0mget_loc\u001b[0m\u001b[0;34m(\u001b[0m\u001b[0mkey\u001b[0m\u001b[0;34m)\u001b[0m\u001b[0;34m\u001b[0m\u001b[0;34m\u001b[0m\u001b[0m\n\u001b[0m\u001b[1;32m   2647\u001b[0m             \u001b[0;32mexcept\u001b[0m \u001b[0mKeyError\u001b[0m\u001b[0;34m:\u001b[0m\u001b[0;34m\u001b[0m\u001b[0;34m\u001b[0m\u001b[0m\n",
      "\u001b[0;32mpandas/_libs/index.pyx\u001b[0m in \u001b[0;36mpandas._libs.index.IndexEngine.get_loc\u001b[0;34m()\u001b[0m\n",
      "\u001b[0;32mpandas/_libs/index.pyx\u001b[0m in \u001b[0;36mpandas._libs.index.IndexEngine.get_loc\u001b[0;34m()\u001b[0m\n",
      "\u001b[0;32mpandas/_libs/hashtable_class_helper.pxi\u001b[0m in \u001b[0;36mpandas._libs.hashtable.PyObjectHashTable.get_item\u001b[0;34m()\u001b[0m\n",
      "\u001b[0;32mpandas/_libs/hashtable_class_helper.pxi\u001b[0m in \u001b[0;36mpandas._libs.hashtable.PyObjectHashTable.get_item\u001b[0;34m()\u001b[0m\n",
      "\u001b[0;31mKeyError\u001b[0m: ('Demographics.Total', 'Salaries.Mean', 'Education.Major', 'Demographics.Ethnicity.Asians', 'Demographics.Ethnicity.Minorities', 'Demographics.Ethnicity.Whites', 'Demographics.Gender.Females', 'Demographics.Gender.Males')",
      "\nDuring handling of the above exception, another exception occurred:\n",
      "\u001b[0;31mKeyError\u001b[0m                                  Traceback (most recent call last)",
      "\u001b[0;32m<ipython-input-1-c80093b45b3c>\u001b[0m in \u001b[0;36m<module>\u001b[0;34m\u001b[0m\n\u001b[1;32m     16\u001b[0m \u001b[0;31m# Keep columns that are of interest.\u001b[0m\u001b[0;34m\u001b[0m\u001b[0;34m\u001b[0m\u001b[0;34m\u001b[0m\u001b[0m\n\u001b[1;32m     17\u001b[0m \u001b[0;31m#data = data.drop([\"Salaries.Lowest\", \"Salaries.Highest\"], axis=1)\u001b[0m\u001b[0;34m\u001b[0m\u001b[0;34m\u001b[0m\u001b[0;34m\u001b[0m\u001b[0m\n\u001b[0;32m---> 18\u001b[0;31m \u001b[0mdata\u001b[0m \u001b[0;34m=\u001b[0m \u001b[0mdata\u001b[0m\u001b[0;34m[\u001b[0m\u001b[0mdata\u001b[0m\u001b[0;34m[\u001b[0m\u001b[0;34m\"Demographics.Total\"\u001b[0m\u001b[0;34m,\u001b[0m \u001b[0;34m\"Salaries.Mean\"\u001b[0m\u001b[0;34m,\u001b[0m \u001b[0;34m\"Education.Major\"\u001b[0m\u001b[0;34m,\u001b[0m \u001b[0;34m\"Demographics.Ethnicity.Asians\"\u001b[0m\u001b[0;34m,\u001b[0m \u001b[0;34m\"Demographics.Ethnicity.Minorities\"\u001b[0m\u001b[0;34m,\u001b[0m \u001b[0;34m\"Demographics.Ethnicity.Whites\"\u001b[0m\u001b[0;34m,\u001b[0m \u001b[0;34m\"Demographics.Gender.Females\"\u001b[0m\u001b[0;34m,\u001b[0m \u001b[0;34m\"Demographics.Gender.Males\"\u001b[0m\u001b[0;34m]\u001b[0m\u001b[0;34m]\u001b[0m\u001b[0;34m\u001b[0m\u001b[0;34m\u001b[0m\u001b[0m\n\u001b[0m\u001b[1;32m     19\u001b[0m \u001b[0;34m\u001b[0m\u001b[0m\n\u001b[1;32m     20\u001b[0m \u001b[0;31m# Remove all rows where any column in the row has a value of 0\u001b[0m\u001b[0;34m\u001b[0m\u001b[0;34m\u001b[0m\u001b[0;34m\u001b[0m\u001b[0m\n",
      "\u001b[0;32m/opt/conda/lib/python3.7/site-packages/pandas/core/frame.py\u001b[0m in \u001b[0;36m__getitem__\u001b[0;34m(self, key)\u001b[0m\n\u001b[1;32m   2798\u001b[0m             \u001b[0;32mif\u001b[0m \u001b[0mself\u001b[0m\u001b[0;34m.\u001b[0m\u001b[0mcolumns\u001b[0m\u001b[0;34m.\u001b[0m\u001b[0mnlevels\u001b[0m \u001b[0;34m>\u001b[0m \u001b[0;36m1\u001b[0m\u001b[0;34m:\u001b[0m\u001b[0;34m\u001b[0m\u001b[0;34m\u001b[0m\u001b[0m\n\u001b[1;32m   2799\u001b[0m                 \u001b[0;32mreturn\u001b[0m \u001b[0mself\u001b[0m\u001b[0;34m.\u001b[0m\u001b[0m_getitem_multilevel\u001b[0m\u001b[0;34m(\u001b[0m\u001b[0mkey\u001b[0m\u001b[0;34m)\u001b[0m\u001b[0;34m\u001b[0m\u001b[0;34m\u001b[0m\u001b[0m\n\u001b[0;32m-> 2800\u001b[0;31m             \u001b[0mindexer\u001b[0m \u001b[0;34m=\u001b[0m \u001b[0mself\u001b[0m\u001b[0;34m.\u001b[0m\u001b[0mcolumns\u001b[0m\u001b[0;34m.\u001b[0m\u001b[0mget_loc\u001b[0m\u001b[0;34m(\u001b[0m\u001b[0mkey\u001b[0m\u001b[0;34m)\u001b[0m\u001b[0;34m\u001b[0m\u001b[0;34m\u001b[0m\u001b[0m\n\u001b[0m\u001b[1;32m   2801\u001b[0m             \u001b[0;32mif\u001b[0m \u001b[0mis_integer\u001b[0m\u001b[0;34m(\u001b[0m\u001b[0mindexer\u001b[0m\u001b[0;34m)\u001b[0m\u001b[0;34m:\u001b[0m\u001b[0;34m\u001b[0m\u001b[0;34m\u001b[0m\u001b[0m\n\u001b[1;32m   2802\u001b[0m                 \u001b[0mindexer\u001b[0m \u001b[0;34m=\u001b[0m \u001b[0;34m[\u001b[0m\u001b[0mindexer\u001b[0m\u001b[0;34m]\u001b[0m\u001b[0;34m\u001b[0m\u001b[0;34m\u001b[0m\u001b[0m\n",
      "\u001b[0;32m/opt/conda/lib/python3.7/site-packages/pandas/core/indexes/base.py\u001b[0m in \u001b[0;36mget_loc\u001b[0;34m(self, key, method, tolerance)\u001b[0m\n\u001b[1;32m   2646\u001b[0m                 \u001b[0;32mreturn\u001b[0m \u001b[0mself\u001b[0m\u001b[0;34m.\u001b[0m\u001b[0m_engine\u001b[0m\u001b[0;34m.\u001b[0m\u001b[0mget_loc\u001b[0m\u001b[0;34m(\u001b[0m\u001b[0mkey\u001b[0m\u001b[0;34m)\u001b[0m\u001b[0;34m\u001b[0m\u001b[0;34m\u001b[0m\u001b[0m\n\u001b[1;32m   2647\u001b[0m             \u001b[0;32mexcept\u001b[0m \u001b[0mKeyError\u001b[0m\u001b[0;34m:\u001b[0m\u001b[0;34m\u001b[0m\u001b[0;34m\u001b[0m\u001b[0m\n\u001b[0;32m-> 2648\u001b[0;31m                 \u001b[0;32mreturn\u001b[0m \u001b[0mself\u001b[0m\u001b[0;34m.\u001b[0m\u001b[0m_engine\u001b[0m\u001b[0;34m.\u001b[0m\u001b[0mget_loc\u001b[0m\u001b[0;34m(\u001b[0m\u001b[0mself\u001b[0m\u001b[0;34m.\u001b[0m\u001b[0m_maybe_cast_indexer\u001b[0m\u001b[0;34m(\u001b[0m\u001b[0mkey\u001b[0m\u001b[0;34m)\u001b[0m\u001b[0;34m)\u001b[0m\u001b[0;34m\u001b[0m\u001b[0;34m\u001b[0m\u001b[0m\n\u001b[0m\u001b[1;32m   2649\u001b[0m         \u001b[0mindexer\u001b[0m \u001b[0;34m=\u001b[0m \u001b[0mself\u001b[0m\u001b[0;34m.\u001b[0m\u001b[0mget_indexer\u001b[0m\u001b[0;34m(\u001b[0m\u001b[0;34m[\u001b[0m\u001b[0mkey\u001b[0m\u001b[0;34m]\u001b[0m\u001b[0;34m,\u001b[0m \u001b[0mmethod\u001b[0m\u001b[0;34m=\u001b[0m\u001b[0mmethod\u001b[0m\u001b[0;34m,\u001b[0m \u001b[0mtolerance\u001b[0m\u001b[0;34m=\u001b[0m\u001b[0mtolerance\u001b[0m\u001b[0;34m)\u001b[0m\u001b[0;34m\u001b[0m\u001b[0;34m\u001b[0m\u001b[0m\n\u001b[1;32m   2650\u001b[0m         \u001b[0;32mif\u001b[0m \u001b[0mindexer\u001b[0m\u001b[0;34m.\u001b[0m\u001b[0mndim\u001b[0m \u001b[0;34m>\u001b[0m \u001b[0;36m1\u001b[0m \u001b[0;32mor\u001b[0m \u001b[0mindexer\u001b[0m\u001b[0;34m.\u001b[0m\u001b[0msize\u001b[0m \u001b[0;34m>\u001b[0m \u001b[0;36m1\u001b[0m\u001b[0;34m:\u001b[0m\u001b[0;34m\u001b[0m\u001b[0;34m\u001b[0m\u001b[0m\n",
      "\u001b[0;32mpandas/_libs/index.pyx\u001b[0m in \u001b[0;36mpandas._libs.index.IndexEngine.get_loc\u001b[0;34m()\u001b[0m\n",
      "\u001b[0;32mpandas/_libs/index.pyx\u001b[0m in \u001b[0;36mpandas._libs.index.IndexEngine.get_loc\u001b[0;34m()\u001b[0m\n",
      "\u001b[0;32mpandas/_libs/hashtable_class_helper.pxi\u001b[0m in \u001b[0;36mpandas._libs.hashtable.PyObjectHashTable.get_item\u001b[0;34m()\u001b[0m\n",
      "\u001b[0;32mpandas/_libs/hashtable_class_helper.pxi\u001b[0m in \u001b[0;36mpandas._libs.hashtable.PyObjectHashTable.get_item\u001b[0;34m()\u001b[0m\n",
      "\u001b[0;31mKeyError\u001b[0m: ('Demographics.Total', 'Salaries.Mean', 'Education.Major', 'Demographics.Ethnicity.Asians', 'Demographics.Ethnicity.Minorities', 'Demographics.Ethnicity.Whites', 'Demographics.Gender.Females', 'Demographics.Gender.Males')"
     ]
    }
   ],
   "source": [
    "# modules.data_module is a module we have created ourselves for useful data functions\n",
    "import modules.data_module as dm\n",
    "import pandas as pd\n",
    "\n",
    "data_url = \"https://corgis-edu.github.io/corgis/datasets/csv/graduates/graduates.csv\"\n",
    "data_path = \"data/graduates.csv\"\n",
    "\n",
    "# Used to download and save for the first time\n",
    "# dm.retrieve_data(data_url, save_to_file=True, save_path=\"data/graduates.csv\")\n",
    "\n",
    "data = dm.retrieve_data(data_path).set_index(\"Unnamed: 0\")\n",
    "data.index.name = \"ID\"\n",
    "\n",
    "data\n",
    "\n",
    "# Keep columns that are of interest.\n",
    "#data = data.drop([\"Salaries.Lowest\", \"Salaries.Highest\"], axis=1)\n",
    "data = data[\"Demographics.Total\", \"Salaries.Mean\", \"Education.Major\", \"Demographics.Ethnicity.Asians\", \"Demographics.Ethnicity.Minorities\", \"Demographics.Ethnicity.Whites\", \"Demographics.Gender.Females\", \"Demographics.Gender.Males\"]\n",
    "\n",
    "# Remove all rows where any column in the row has a value of 0\n",
    "data = data[(data != 0).all(1)]\n",
    "\n",
    "# Remove all rows where column not equal to 1993 as 1993 was before the Dotcom Bubble from 1995-2001.\n",
    "# As we don't have more data before 1993, it wouldn't make sense to use that data as we don't know if the values\n",
    "# were at peak, lower or the same before then.\n",
    "data = (data[data['Year'] != 1993])\n",
    "# The above causes decimals on Year. Let's get rid of those (so our plot doesnt show decimal years)\n",
    "data['Year'] = data['Year'].astype(str).replace('\\.0', '', regex=True)\n",
    "\n",
    "# Remove all rows where Education.Major is not: \n",
    "# \"Biological Sciences\", \"Chemical Engineering\", \"Chemistry\", \"Civil Engineering\", \"Computer Science and Math\",\n",
    "# \"Economics\", \"Electrical Engineering\", \"Management & Administration\", \"Mechanical Engineering\", \"Other Engineering\"\n",
    "# \"Physics and Astronomy\" or \"Psychology\"\n",
    "majors_of_interest = [\"Biological Sciences\", \"Chemical Engineering\", \"Chemistry\", \"Civil Engineering\", \n",
    "                      \"Computer Science and Math\", \"Economics\", \"Electrical Engineering\", \"Management & Administration\", \n",
    "                      \"Mechanical Engineering\", \"Other Engineering\",\"Physics and Astronomy\", \"Psychology\"]\n",
    "data = data.loc[data['Education.Major'].isin(majors_of_interest)]\n",
    "\n",
    "data"
   ]
  },
  {
   "cell_type": "markdown",
   "metadata": {},
   "source": [
    "### Plot Salaries.Mean for the majors of interest"
   ]
  },
  {
   "cell_type": "code",
   "execution_count": null,
   "metadata": {},
   "outputs": [],
   "source": [
    "# smp = salary mean plot\n",
    "smp_data = data\n",
    "smp_label = \"Education.Major\"\n",
    "smp_x = \"Year\"\n",
    "smp_y = \"Salaries.Mean\"\n",
    "smp_xlabel = \"Years\"\n",
    "smp_ylabel = \"Salary Mean\"\n",
    "smp_labels = [\"Electrical Engineering\", \"Physics and Astronomy\", \"Psychology\", \"Chemistry\", \"Economics\", \"Civil Engineering\", \"Physics and Astronomy\", \"Other Engineering\"]\n",
    "smp_title = \"Salaries mean for given major between 1995 to 2015\"\n",
    "\n",
    "dm.plot_data(smp_data, smp_label, smp_x, smp_y, smp_xlabel, smp_ylabel, smp_labels, smp_title)"
   ]
  },
  {
   "cell_type": "markdown",
   "metadata": {},
   "source": [
    "### Observations on the Salary graph for given majors between 1995 to 2015\n",
    "We can see that certain educations are rising in salary since the start (1995) and up to the end year (2015), such as Electrical Engineering. It could indicate that it has been highly demanded throughout all the years, hence the salary increase.\n",
    "On the other hand, the salary of the majority of the educations appears to be affected by financial crisis that begun in early 2007. Because of that, most of the educations had a high decrease in the salary during this period, which is also shown on the graph above. But after the financial crisis ending in 2009, the majority of the educations, such as Chemistry, Computer Science and Chemical Engineering are now at a higher salary level than before the crisis.\n",
    "\n",
    "- Note til os: Lav nogle overordnede konklusioner når vi har de andre grafer med og få den røde tråd frem. Ovenstående er blot \"åbenlyse\" observationer."
   ]
  },
  {
   "cell_type": "markdown",
   "metadata": {},
   "source": [
    "### Plot Demographics.Ethnicity for the majors of interest"
   ]
  },
  {
   "cell_type": "code",
   "execution_count": null,
   "metadata": {},
   "outputs": [],
   "source": [
    "deap_data = data\n",
    "deap_label = [\"Education.Major\", \"Education.Major\", \"Education.Major\"]\n",
    "deap_x = [\"Year\", \"Year\", \"Year\"]\n",
    "deap_y = [\"Demographics.Ethnicity.Asians\", \"Demographics.Ethnicity.Whites\", \"Demographics.Ethnicity.Minorities\"]\n",
    "deap_xlabel = [\"Year\", \"Year\", \"Year\"]\n",
    "deap_ylabel = [\"Amount Of Majors\", \"Amount Of Majors\",  \"Amount Of Majors\"]\n",
    "deap_labels = majors_of_interest\n",
    "deap_title = [\"Amount of majors with demographic ethinicity of Asian for given major between 1995 to 2015\",\n",
    "              \"Amount of majors with demographic ethinicity of Whites for given major between 1995 to 2015\", \n",
    "              \"Amount of majors with demographic ethinicity of Minorities for given major between 1995 to 2015\"]\n",
    "\n",
    "dm.plot_data(deap_data, deap_label, deap_x, deap_y, deap_xlabel, deap_ylabel, deap_labels, deap_title, 3)"
   ]
  },
  {
   "cell_type": "code",
   "execution_count": null,
   "metadata": {},
   "outputs": [],
   "source": [
    "# dgfp = demographics gender female plot\n",
    "dgfp_data = data\n",
    "dgfp_label = [\"Education.Major\", \"Education.Major\"]\n",
    "dgfp_x = [\"Year\", \"Year\"]\n",
    "dgfp_y = [\"Demographics.Gender.Females\", \"Demographics.Gender.Males\"]\n",
    "dgfp_xlabel = [\"Year\", \"Year\"]\n",
    "dgfp_ylabel = [\"Amount Of Majors\", \"Amount Of Majors\"]\n",
    "dgfp_labels = majors_of_interest\n",
    "dgfp_title = [\"Amount of majors with demographic gender females for given major between 1995 to 2015\", \n",
    "              \"Amount of majors with demographic gender females for given major between 1995 to 2015\"]\n",
    "\n",
    "dm.plot_data(dgfp_data, dgfp_label, dgfp_x, dgfp_y, dgfp_xlabel, dgfp_ylabel, dgfp_labels, dgfp_title, 2)"
   ]
  },
  {
   "cell_type": "code",
   "execution_count": null,
   "metadata": {},
   "outputs": [],
   "source": [
    "# dgmp = demographics gender m plot\n",
    "dgmp_data = data\n",
    "dgmp_label = \"Education.Major\"\n",
    "dgmp_x = \"Year\"\n",
    "dgmp_y = \"Demographics.Gender.Males\"\n",
    "dgmp_xlabel = \"Years\"\n",
    "dgmp_ylabel = \"Amount Of Majors\"\n",
    "dgmp_labels = majors_of_interest\n",
    "dgmp_title = \"Amount of majors with demographic gender males for given major between 1995 to 2015\"\n",
    "\n",
    "dm.plot_data(dgmp_data, dgmp_label, dgmp_x, dgmp_y, dgmp_xlabel, dgmp_ylabel, dgmp_labels, dgmp_title)"
   ]
  },
  {
   "cell_type": "markdown",
   "metadata": {},
   "source": [
    "### Clustering of Data through Meanshift"
   ]
  },
  {
   "cell_type": "code",
   "execution_count": null,
   "metadata": {},
   "outputs": [],
   "source": [
    "from sklearn.cluster import MeanShift, estimate_bandwidth\n",
    "import numpy as np\n",
    "\n",
    "bandwidth = estimate_bandwidth(X=data.drop('Education.Major', axis=1), quantile=0.2)\n",
    "\n",
    "ms = MeanShift(bandwidth=bandwidth)\n",
    "\n",
    "ms.fit(data.drop('Education.Major', axis=1))\n",
    "labels = ms.labels_\n",
    "cluster_centers = ms.cluster_centers_\n",
    "\n",
    "labels_unique = np.unique(labels)\n",
    "n_clusters = len(labels_unique)\n",
    "\n",
    "print('Number of estimated clusters : {}'.format(n_clusters)) "
   ]
  }
 ],
 "metadata": {
  "kernelspec": {
   "display_name": "Python 3",
   "language": "python",
   "name": "python3"
  },
  "language_info": {
   "codemirror_mode": {
    "name": "ipython",
    "version": 3
   },
   "file_extension": ".py",
   "mimetype": "text/x-python",
   "name": "python",
   "nbconvert_exporter": "python",
   "pygments_lexer": "ipython3",
   "version": "3.7.6"
  }
 },
 "nbformat": 4,
 "nbformat_minor": 4
}
